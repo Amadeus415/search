{
 "cells": [
  {
   "cell_type": "code",
   "execution_count": 11,
   "metadata": {},
   "outputs": [
    {
     "name": "stdout",
     "output_type": "stream",
     "text": [
      "[1, 2, 3, 2, 1]\n",
      "[1, 2, 3, 2, 1]\n",
      "Palindrome\n"
     ]
    }
   ],
   "source": [
    "n1 = 12321\n",
    "#make n1 a list\n",
    "l1 = [int(x) for x in str(n1)]\n",
    "print(l1)\n",
    "l1_reverse = l1[::-1]\n",
    "print(l1_reverse)\n",
    "\n",
    "if l1 == l1_reverse:\n",
    "    print(\"Palindrome\")\n"
   ]
  },
  {
   "cell_type": "code",
   "execution_count": 29,
   "metadata": {},
   "outputs": [
    {
     "name": "stdout",
     "output_type": "stream",
     "text": [
      "[0, 3, 6, 9]\n"
     ]
    }
   ],
   "source": [
    "list = [0,1,2,3,4,5,6,7,8,9,10]\n",
    "\n",
    "print(list[0:10])"
   ]
  },
  {
   "cell_type": "code",
   "execution_count": 42,
   "metadata": {},
   "outputs": [
    {
     "name": "stdout",
     "output_type": "stream",
     "text": [
      "False\n"
     ]
    }
   ],
   "source": [
    "nums = [1,2,3]\n",
    "\n",
    "def containsDuplicate(nums) -> bool:\n",
    "    stack = []\n",
    "    for i in range(len(nums)):\n",
    "        if nums[i] not in stack:\n",
    "            stack.append(nums[i])\n",
    "        else:\n",
    "            return True\n",
    "        \n",
    "    return False\n",
    "\n",
    "print(containsDuplicate(nums))\n",
    "\n"
   ]
  },
  {
   "cell_type": "code",
   "execution_count": 44,
   "metadata": {},
   "outputs": [],
   "source": [
    "#length of set != length of list\n",
    "def containsDuplicate(nums) -> bool:\n",
    "    return len(nums) != len(set(nums))"
   ]
  },
  {
   "cell_type": "code",
   "execution_count": 46,
   "metadata": {},
   "outputs": [
    {
     "name": "stdout",
     "output_type": "stream",
     "text": [
      "1\n",
      "2\n",
      "3\n",
      "4\n",
      "1\n",
      "dict_items([(1, False), (2, False), (3, False), (4, False)])\n"
     ]
    }
   ],
   "source": [
    "nums = [1,2,3,4,1]\n",
    "visited = {}\n",
    "\n",
    "for i in range(len(nums)):\n",
    "    visited.update({nums[i]: False})\n",
    "\n",
    "\n",
    "print(visited.items())\n"
   ]
  },
  {
   "cell_type": "code",
   "execution_count": 53,
   "metadata": {},
   "outputs": [
    {
     "name": "stdout",
     "output_type": "stream",
     "text": [
      "0\n"
     ]
    }
   ],
   "source": [
    "haystack = \"sadbutsad\"\n",
    "needle = \"sad\"\n",
    "\n",
    "index = haystack.find(needle)\n",
    "print(index)\n",
    "\n",
    "#else false"
   ]
  },
  {
   "cell_type": "code",
   "execution_count": 15,
   "metadata": {},
   "outputs": [
    {
     "name": "stdout",
     "output_type": "stream",
     "text": [
      "['a', 'a', 'c', 'c']\n",
      "['a', 'c', 'c', 'c']\n"
     ]
    }
   ],
   "source": [
    "s = \"aacc\"\n",
    "t = \"ccac\"\n",
    "s_list = [x for x in s]\n",
    "t_list = [x for x in t]\n",
    "s_list.sort()\n",
    "t_list.sort()\n",
    "print(s_list)\n",
    "print(t_list)\n",
    "\n",
    "\n",
    "\n",
    "\n"
   ]
  },
  {
   "cell_type": "code",
   "execution_count": 9,
   "metadata": {},
   "outputs": [
    {
     "name": "stdout",
     "output_type": "stream",
     "text": [
      "False\n"
     ]
    }
   ],
   "source": [
    "def isAnagram(s: str, t: str) -> bool:\n",
    "        stack_t = [x for x in t] #list of t\n",
    "        stack_s = [x for x in s] #list of s\n",
    "\n",
    "        #check length\n",
    "        if len(s) != len(t):\n",
    "            return False\n",
    "\n",
    "        for i in t:\n",
    "              if i in s:\n",
    "                    stack_t.remove()\n",
    "\n",
    "s = 'aa'\n",
    "t = 'aa'\n",
    "print(isAnagram(s, t))"
   ]
  }
 ],
 "metadata": {
  "kernelspec": {
   "display_name": "Python 3",
   "language": "python",
   "name": "python3"
  },
  "language_info": {
   "codemirror_mode": {
    "name": "ipython",
    "version": 3
   },
   "file_extension": ".py",
   "mimetype": "text/x-python",
   "name": "python",
   "nbconvert_exporter": "python",
   "pygments_lexer": "ipython3",
   "version": "3.10.11"
  },
  "orig_nbformat": 4
 },
 "nbformat": 4,
 "nbformat_minor": 2
}
